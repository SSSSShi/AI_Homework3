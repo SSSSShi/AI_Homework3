{
 "cells": [
  {
   "cell_type": "code",
   "execution_count": 3,
   "metadata": {},
   "outputs": [
    {
     "name": "stdout",
     "output_type": "stream",
     "text": [
      "\n",
      "WARNING: The TensorFlow contrib module will not be included in TensorFlow 2.0.\n",
      "For more information, please see:\n",
      "  * https://github.com/tensorflow/community/blob/master/rfcs/20180907-contrib-sunset.md\n",
      "  * https://github.com/tensorflow/addons\n",
      "If you depend on functionality not listed there, please file an issue.\n",
      "\n"
     ]
    }
   ],
   "source": [
    "# 载入需要用的库\n",
    "import cifar10, cifar10_input\n",
    "import tensorflow as tf\n",
    "import numpy as np\n",
    "import math\n",
    "import time"
   ]
  },
  {
   "cell_type": "code",
   "execution_count": 4,
   "metadata": {},
   "outputs": [
    {
     "name": "stdout",
     "output_type": "stream",
     "text": [
      "\u001b[1mDownloading and preparing dataset cifar10 (162.17 MiB) to /Users/srn/tensorflow_datasets/cifar10/1.0.2...\u001b[0m\n"
     ]
    },
    {
     "data": {
      "application/vnd.jupyter.widget-view+json": {
       "model_id": "3707d0bec7c64483b81d35ccaf7d10ca",
       "version_major": 2,
       "version_minor": 0
      },
      "text/plain": [
       "HBox(children=(IntProgress(value=1, bar_style='info', description='Dl Completed...', max=1, style=ProgressStyl…"
      ]
     },
     "metadata": {},
     "output_type": "display_data"
    },
    {
     "data": {
      "application/vnd.jupyter.widget-view+json": {
       "model_id": "006de5643a6243ecbce392a6bf3fe10a",
       "version_major": 2,
       "version_minor": 0
      },
      "text/plain": [
       "HBox(children=(IntProgress(value=1, bar_style='info', description='Dl Size...', max=1, style=ProgressStyle(des…"
      ]
     },
     "metadata": {},
     "output_type": "display_data"
    },
    {
     "data": {
      "application/vnd.jupyter.widget-view+json": {
       "model_id": "3b31e8b410ad421bac31ed5dbe3d8f2c",
       "version_major": 2,
       "version_minor": 0
      },
      "text/plain": [
       "HBox(children=(IntProgress(value=1, bar_style='info', description='Extraction completed...', max=1, style=Prog…"
      ]
     },
     "metadata": {},
     "output_type": "display_data"
    },
    {
     "name": "stdout",
     "output_type": "stream",
     "text": [
      "\n",
      "\n",
      "\n",
      "\n"
     ]
    },
    {
     "data": {
      "application/vnd.jupyter.widget-view+json": {
       "model_id": "",
       "version_major": 2,
       "version_minor": 0
      },
      "text/plain": [
       "HBox(children=(IntProgress(value=1, bar_style='info', max=1), HTML(value='')))"
      ]
     },
     "metadata": {},
     "output_type": "display_data"
    },
    {
     "name": "stdout",
     "output_type": "stream",
     "text": [
      "\r"
     ]
    },
    {
     "data": {
      "application/vnd.jupyter.widget-view+json": {
       "model_id": "",
       "version_major": 2,
       "version_minor": 0
      },
      "text/plain": [
       "HBox(children=(IntProgress(value=0, description='Shuffling...', max=10, style=ProgressStyle(description_width=…"
      ]
     },
     "metadata": {},
     "output_type": "display_data"
    },
    {
     "name": "stdout",
     "output_type": "stream",
     "text": [
      "WARNING:tensorflow:From /anaconda3/lib/python3.6/site-packages/tensorflow_datasets/core/file_format_adapter.py:247: tf_record_iterator (from tensorflow.python.lib.io.tf_record) is deprecated and will be removed in a future version.\n",
      "Instructions for updating:\n",
      "Use eager execution and: \n",
      "`tf.data.TFRecordDataset(path)`\n"
     ]
    },
    {
     "name": "stderr",
     "output_type": "stream",
     "text": [
      "WARNING: Logging before flag parsing goes to stderr.\n",
      "W0614 09:41:31.488114 4752627136 deprecation.py:323] From /anaconda3/lib/python3.6/site-packages/tensorflow_datasets/core/file_format_adapter.py:247: tf_record_iterator (from tensorflow.python.lib.io.tf_record) is deprecated and will be removed in a future version.\n",
      "Instructions for updating:\n",
      "Use eager execution and: \n",
      "`tf.data.TFRecordDataset(path)`\n"
     ]
    },
    {
     "data": {
      "application/vnd.jupyter.widget-view+json": {
       "model_id": "",
       "version_major": 2,
       "version_minor": 0
      },
      "text/plain": [
       "HBox(children=(IntProgress(value=1, bar_style='info', description='Reading...', max=1, style=ProgressStyle(des…"
      ]
     },
     "metadata": {},
     "output_type": "display_data"
    },
    {
     "data": {
      "application/vnd.jupyter.widget-view+json": {
       "model_id": "",
       "version_major": 2,
       "version_minor": 0
      },
      "text/plain": [
       "HBox(children=(IntProgress(value=0, description='Writing...', max=5000, style=ProgressStyle(description_width=…"
      ]
     },
     "metadata": {},
     "output_type": "display_data"
    },
    {
     "data": {
      "application/vnd.jupyter.widget-view+json": {
       "model_id": "",
       "version_major": 2,
       "version_minor": 0
      },
      "text/plain": [
       "HBox(children=(IntProgress(value=1, bar_style='info', description='Reading...', max=1, style=ProgressStyle(des…"
      ]
     },
     "metadata": {},
     "output_type": "display_data"
    },
    {
     "data": {
      "application/vnd.jupyter.widget-view+json": {
       "model_id": "",
       "version_major": 2,
       "version_minor": 0
      },
      "text/plain": [
       "HBox(children=(IntProgress(value=0, description='Writing...', max=5000, style=ProgressStyle(description_width=…"
      ]
     },
     "metadata": {},
     "output_type": "display_data"
    },
    {
     "data": {
      "application/vnd.jupyter.widget-view+json": {
       "model_id": "",
       "version_major": 2,
       "version_minor": 0
      },
      "text/plain": [
       "HBox(children=(IntProgress(value=1, bar_style='info', description='Reading...', max=1, style=ProgressStyle(des…"
      ]
     },
     "metadata": {},
     "output_type": "display_data"
    },
    {
     "data": {
      "application/vnd.jupyter.widget-view+json": {
       "model_id": "",
       "version_major": 2,
       "version_minor": 0
      },
      "text/plain": [
       "HBox(children=(IntProgress(value=0, description='Writing...', max=5000, style=ProgressStyle(description_width=…"
      ]
     },
     "metadata": {},
     "output_type": "display_data"
    },
    {
     "data": {
      "application/vnd.jupyter.widget-view+json": {
       "model_id": "",
       "version_major": 2,
       "version_minor": 0
      },
      "text/plain": [
       "HBox(children=(IntProgress(value=1, bar_style='info', description='Reading...', max=1, style=ProgressStyle(des…"
      ]
     },
     "metadata": {},
     "output_type": "display_data"
    },
    {
     "data": {
      "application/vnd.jupyter.widget-view+json": {
       "model_id": "",
       "version_major": 2,
       "version_minor": 0
      },
      "text/plain": [
       "HBox(children=(IntProgress(value=0, description='Writing...', max=5000, style=ProgressStyle(description_width=…"
      ]
     },
     "metadata": {},
     "output_type": "display_data"
    },
    {
     "data": {
      "application/vnd.jupyter.widget-view+json": {
       "model_id": "",
       "version_major": 2,
       "version_minor": 0
      },
      "text/plain": [
       "HBox(children=(IntProgress(value=1, bar_style='info', description='Reading...', max=1, style=ProgressStyle(des…"
      ]
     },
     "metadata": {},
     "output_type": "display_data"
    },
    {
     "data": {
      "application/vnd.jupyter.widget-view+json": {
       "model_id": "",
       "version_major": 2,
       "version_minor": 0
      },
      "text/plain": [
       "HBox(children=(IntProgress(value=0, description='Writing...', max=5000, style=ProgressStyle(description_width=…"
      ]
     },
     "metadata": {},
     "output_type": "display_data"
    },
    {
     "data": {
      "application/vnd.jupyter.widget-view+json": {
       "model_id": "",
       "version_major": 2,
       "version_minor": 0
      },
      "text/plain": [
       "HBox(children=(IntProgress(value=1, bar_style='info', description='Reading...', max=1, style=ProgressStyle(des…"
      ]
     },
     "metadata": {},
     "output_type": "display_data"
    },
    {
     "data": {
      "application/vnd.jupyter.widget-view+json": {
       "model_id": "",
       "version_major": 2,
       "version_minor": 0
      },
      "text/plain": [
       "HBox(children=(IntProgress(value=0, description='Writing...', max=5000, style=ProgressStyle(description_width=…"
      ]
     },
     "metadata": {},
     "output_type": "display_data"
    },
    {
     "data": {
      "application/vnd.jupyter.widget-view+json": {
       "model_id": "",
       "version_major": 2,
       "version_minor": 0
      },
      "text/plain": [
       "HBox(children=(IntProgress(value=1, bar_style='info', description='Reading...', max=1, style=ProgressStyle(des…"
      ]
     },
     "metadata": {},
     "output_type": "display_data"
    },
    {
     "data": {
      "application/vnd.jupyter.widget-view+json": {
       "model_id": "",
       "version_major": 2,
       "version_minor": 0
      },
      "text/plain": [
       "HBox(children=(IntProgress(value=0, description='Writing...', max=5000, style=ProgressStyle(description_width=…"
      ]
     },
     "metadata": {},
     "output_type": "display_data"
    },
    {
     "data": {
      "application/vnd.jupyter.widget-view+json": {
       "model_id": "",
       "version_major": 2,
       "version_minor": 0
      },
      "text/plain": [
       "HBox(children=(IntProgress(value=1, bar_style='info', description='Reading...', max=1, style=ProgressStyle(des…"
      ]
     },
     "metadata": {},
     "output_type": "display_data"
    },
    {
     "data": {
      "application/vnd.jupyter.widget-view+json": {
       "model_id": "",
       "version_major": 2,
       "version_minor": 0
      },
      "text/plain": [
       "HBox(children=(IntProgress(value=0, description='Writing...', max=5000, style=ProgressStyle(description_width=…"
      ]
     },
     "metadata": {},
     "output_type": "display_data"
    },
    {
     "data": {
      "application/vnd.jupyter.widget-view+json": {
       "model_id": "",
       "version_major": 2,
       "version_minor": 0
      },
      "text/plain": [
       "HBox(children=(IntProgress(value=1, bar_style='info', description='Reading...', max=1, style=ProgressStyle(des…"
      ]
     },
     "metadata": {},
     "output_type": "display_data"
    },
    {
     "data": {
      "application/vnd.jupyter.widget-view+json": {
       "model_id": "",
       "version_major": 2,
       "version_minor": 0
      },
      "text/plain": [
       "HBox(children=(IntProgress(value=0, description='Writing...', max=5000, style=ProgressStyle(description_width=…"
      ]
     },
     "metadata": {},
     "output_type": "display_data"
    },
    {
     "data": {
      "application/vnd.jupyter.widget-view+json": {
       "model_id": "",
       "version_major": 2,
       "version_minor": 0
      },
      "text/plain": [
       "HBox(children=(IntProgress(value=1, bar_style='info', description='Reading...', max=1, style=ProgressStyle(des…"
      ]
     },
     "metadata": {},
     "output_type": "display_data"
    },
    {
     "data": {
      "application/vnd.jupyter.widget-view+json": {
       "model_id": "",
       "version_major": 2,
       "version_minor": 0
      },
      "text/plain": [
       "HBox(children=(IntProgress(value=0, description='Writing...', max=5000, style=ProgressStyle(description_width=…"
      ]
     },
     "metadata": {},
     "output_type": "display_data"
    },
    {
     "name": "stdout",
     "output_type": "stream",
     "text": [
      "\r"
     ]
    },
    {
     "data": {
      "application/vnd.jupyter.widget-view+json": {
       "model_id": "",
       "version_major": 2,
       "version_minor": 0
      },
      "text/plain": [
       "HBox(children=(IntProgress(value=1, bar_style='info', max=1), HTML(value='')))"
      ]
     },
     "metadata": {},
     "output_type": "display_data"
    },
    {
     "name": "stdout",
     "output_type": "stream",
     "text": [
      "\r"
     ]
    },
    {
     "data": {
      "application/vnd.jupyter.widget-view+json": {
       "model_id": "",
       "version_major": 2,
       "version_minor": 0
      },
      "text/plain": [
       "HBox(children=(IntProgress(value=0, description='Shuffling...', max=1, style=ProgressStyle(description_width='…"
      ]
     },
     "metadata": {},
     "output_type": "display_data"
    },
    {
     "data": {
      "application/vnd.jupyter.widget-view+json": {
       "model_id": "",
       "version_major": 2,
       "version_minor": 0
      },
      "text/plain": [
       "HBox(children=(IntProgress(value=1, bar_style='info', description='Reading...', max=1, style=ProgressStyle(des…"
      ]
     },
     "metadata": {},
     "output_type": "display_data"
    },
    {
     "data": {
      "application/vnd.jupyter.widget-view+json": {
       "model_id": "",
       "version_major": 2,
       "version_minor": 0
      },
      "text/plain": [
       "HBox(children=(IntProgress(value=0, description='Writing...', max=10000, style=ProgressStyle(description_width…"
      ]
     },
     "metadata": {},
     "output_type": "display_data"
    },
    {
     "name": "stdout",
     "output_type": "stream",
     "text": [
      "\r",
      "\u001b[1mDataset cifar10 downloaded and prepared to /Users/srn/tensorflow_datasets/cifar10/1.0.2. Subsequent calls will reuse this data.\u001b[0m\n",
      "WARNING:tensorflow:From /anaconda3/lib/python3.6/site-packages/tensorflow/python/ops/control_flow_ops.py:423: colocate_with (from tensorflow.python.framework.ops) is deprecated and will be removed in a future version.\n",
      "Instructions for updating:\n",
      "Colocations handled automatically by placer.\n"
     ]
    },
    {
     "name": "stderr",
     "output_type": "stream",
     "text": [
      "W0614 09:41:38.761754 4752627136 deprecation.py:323] From /anaconda3/lib/python3.6/site-packages/tensorflow/python/ops/control_flow_ops.py:423: colocate_with (from tensorflow.python.framework.ops) is deprecated and will be removed in a future version.\n",
      "Instructions for updating:\n",
      "Colocations handled automatically by placer.\n"
     ]
    },
    {
     "name": "stdout",
     "output_type": "stream",
     "text": [
      "WARNING:tensorflow:From /anaconda3/lib/python3.6/site-packages/tensorflow/python/ops/image_ops_impl.py:1241: div (from tensorflow.python.ops.math_ops) is deprecated and will be removed in a future version.\n",
      "Instructions for updating:\n",
      "Deprecated in favor of operator or tf.math.divide.\n"
     ]
    },
    {
     "name": "stderr",
     "output_type": "stream",
     "text": [
      "W0614 09:41:38.920570 4752627136 deprecation.py:323] From /anaconda3/lib/python3.6/site-packages/tensorflow/python/ops/image_ops_impl.py:1241: div (from tensorflow.python.ops.math_ops) is deprecated and will be removed in a future version.\n",
      "Instructions for updating:\n",
      "Deprecated in favor of operator or tf.math.divide.\n"
     ]
    }
   ],
   "source": [
    "batch_size = 128\n",
    "data = './cifar10_data/cifar-10-batches-bin'\n",
    "images_train, labels_train = cifar10_input.inputs(eval_data = False, batch_size = batch_size)\n",
    "images_test, labels_test = cifar10_input.inputs(eval_data = True, batch_size = batch_size)"
   ]
  },
  {
   "cell_type": "code",
   "execution_count": 5,
   "metadata": {},
   "outputs": [],
   "source": [
    "def weight_variable(shape, stddev):\n",
    "    initial = tf.truncated_normal(shape, stddev=stddev)  # stddev=stddev！！！\n",
    "    return tf.Variable(initial)\n",
    "\n",
    "\n",
    "def bias_variable(cons, shape):\n",
    "    initial = tf.constant(cons, shape=shape)  # 必须是 shape=shape\n",
    "    return tf.Variable(initial)\n",
    "\n",
    "\n",
    "def conv(x, W):\n",
    "    return tf.nn.conv2d(x, W, [1, 1, 1, 1], padding='SAME')\n",
    "\n",
    "\n",
    "def max_pool_3x3(x):\n",
    "    return tf.nn.max_pool(x, ksize=[1, 3, 3, 1], strides=[1, 2, 2, 1], padding='SAME')"
   ]
  },
  {
   "cell_type": "code",
   "execution_count": 6,
   "metadata": {},
   "outputs": [],
   "source": [
    "image_holder = tf.placeholder(tf.float32, [batch_size, 24, 24, 3])\n",
    "label_holder = tf.placeholder(tf.int32, [batch_size])"
   ]
  },
  {
   "cell_type": "code",
   "execution_count": 7,
   "metadata": {},
   "outputs": [],
   "source": [
    "# 第一层\n",
    "weight1 = weight_variable([5, 5, 3, 64], 5e-2)\n",
    "bias1 = bias_variable(0.0, [64])\n",
    "\n",
    "conv1 = tf.nn.relu(conv(image_holder, weight1) + bias1)\n",
    "pool1 = max_pool_3x3(conv1)\n",
    "\n",
    "# 第二层\n",
    "weight2 = weight_variable([5, 5, 64, 64], 5e-2)\n",
    "bias2 = bias_variable(0.1, [64])\n",
    "\n",
    "conv2 = tf.nn.relu(conv(pool1, weight2) + bias2)\n",
    "pool2 = max_pool_3x3(conv2)\n",
    "\n",
    "reshape = tf.reshape(pool2, [batch_size, -1])\n",
    "dim = reshape.get_shape()[1].value\n",
    "\n",
    "# 全连接层\n",
    "weight3 = weight_variable([dim, 384], 0.04)\n",
    "bias3 = bias_variable(0.1, [384])\n",
    "\n",
    "local3 = tf.nn.relu(tf.matmul(reshape, weight3) + bias3)\n",
    "\n",
    "# 全连接层\n",
    "weight4 = weight_variable([384, 192], 0.04)\n",
    "bias4 = bias_variable(0.1, [192])\n",
    "\n",
    "local4 = tf.nn.relu(tf.matmul(local3, weight4) + bias4)\n",
    "\n",
    "# 输出\n",
    "weight5 = weight_variable([192, 10], 1 / 192.0)\n",
    "bias5 = bias_variable(0.0, [10])\n",
    "logits = tf.matmul(local4, weight5) + bias5"
   ]
  },
  {
   "cell_type": "code",
   "execution_count": 8,
   "metadata": {},
   "outputs": [],
   "source": [
    "# 损失函数\n",
    "def loss(logits, labels):\n",
    "    labels = tf.cast(labels, tf.int64)\n",
    "    cross_entropy = tf.nn.sparse_softmax_cross_entropy_with_logits(logits=logits, labels=labels,\n",
    "                                                                   name='cross_entropy_per_example')\n",
    "    cross_entropy_mean = tf.reduce_mean(cross_entropy, name='cross_entropy')\n",
    "    tf.add_to_collection('losses', cross_entropy_mean)\n",
    "    return tf.add_n(tf.get_collection('losses'), name='total_loss')\n",
    "\n",
    "\n",
    "loss = loss(logits, label_holder)\n",
    "train_op = tf.train.AdamOptimizer(1e-3).minimize(loss)\n",
    "top_k_op = tf.nn.in_top_k(logits, label_holder, 1)"
   ]
  },
  {
   "cell_type": "code",
   "execution_count": 9,
   "metadata": {},
   "outputs": [
    {
     "name": "stdout",
     "output_type": "stream",
     "text": [
      "WARNING:tensorflow:From <ipython-input-9-02b76c52026f>:3: start_queue_runners (from tensorflow.python.training.queue_runner_impl) is deprecated and will be removed in a future version.\n",
      "Instructions for updating:\n",
      "To construct input pipelines, use the `tf.data` module.\n"
     ]
    },
    {
     "name": "stderr",
     "output_type": "stream",
     "text": [
      "W0614 09:42:14.357114 4752627136 deprecation.py:323] From <ipython-input-9-02b76c52026f>:3: start_queue_runners (from tensorflow.python.training.queue_runner_impl) is deprecated and will be removed in a future version.\n",
      "Instructions for updating:\n",
      "To construct input pipelines, use the `tf.data` module.\n"
     ]
    },
    {
     "name": "stdout",
     "output_type": "stream",
     "text": [
      "WARNING:tensorflow:`tf.train.start_queue_runners()` was called when no queue runners were defined. You can safely remove the call to this deprecated function.\n"
     ]
    },
    {
     "name": "stderr",
     "output_type": "stream",
     "text": [
      "W0614 09:42:14.359175 4752627136 queue_runner_impl.py:471] `tf.train.start_queue_runners()` was called when no queue runners were defined. You can safely remove the call to this deprecated function.\n"
     ]
    },
    {
     "name": "stdout",
     "output_type": "stream",
     "text": [
      "step 0,loss=2.3059282302856445,(123.40075699398868 examples/sec; 1.0372707843780518 sec/batch)\n",
      "step 10,loss=1.996286153793335,(461.15363544298145 examples/sec; 0.27756476402282715 sec/batch)\n",
      "step 20,loss=1.8116545677185059,(485.46633788081425 examples/sec; 0.26366400718688965 sec/batch)\n",
      "step 30,loss=1.8194639682769775,(462.2323977979705 examples/sec; 0.2769169807434082 sec/batch)\n",
      "step 40,loss=1.7946010828018188,(337.3631289690544 examples/sec; 0.3794131278991699 sec/batch)\n",
      "step 50,loss=1.830093264579773,(419.78196739769555 examples/sec; 0.3049201965332031 sec/batch)\n",
      "step 60,loss=1.6019084453582764,(424.34182510858096 examples/sec; 0.30164361000061035 sec/batch)\n",
      "step 70,loss=1.6338410377502441,(436.39242819333987 examples/sec; 0.29331398010253906 sec/batch)\n",
      "step 80,loss=1.6329753398895264,(436.9660525152751 examples/sec; 0.29292893409729004 sec/batch)\n",
      "step 90,loss=1.3785829544067383,(436.3374536635558 examples/sec; 0.2933509349822998 sec/batch)\n",
      "step 100,loss=1.5947816371917725,(425.8365790358709 examples/sec; 0.3005847930908203 sec/batch)\n",
      "step 110,loss=1.5453041791915894,(442.70747481444283 examples/sec; 0.28912997245788574 sec/batch)\n",
      "step 120,loss=1.633378267288208,(431.3175798952859 examples/sec; 0.2967650890350342 sec/batch)\n",
      "step 130,loss=1.7018269300460815,(428.289638084024 examples/sec; 0.29886317253112793 sec/batch)\n",
      "step 140,loss=1.5058598518371582,(441.96109313297336 examples/sec; 0.28961825370788574 sec/batch)\n",
      "step 150,loss=1.3959362506866455,(438.21188762100655 examples/sec; 0.2920961380004883 sec/batch)\n",
      "step 160,loss=1.709186315536499,(433.1203880142827 examples/sec; 0.295529842376709 sec/batch)\n",
      "step 170,loss=1.4987915754318237,(438.6985187709239 examples/sec; 0.29177212715148926 sec/batch)\n",
      "step 180,loss=1.5171892642974854,(452.0458621122269 examples/sec; 0.2831571102142334 sec/batch)\n",
      "step 190,loss=1.4056267738342285,(438.2108145742987 examples/sec; 0.2920968532562256 sec/batch)\n",
      "step 200,loss=1.3048405647277832,(286.29328600803734 examples/sec; 0.4470939636230469 sec/batch)\n",
      "step 210,loss=1.4038608074188232,(441.58957170317717 examples/sec; 0.28986191749572754 sec/batch)\n",
      "step 220,loss=1.3750050067901611,(453.46163273614604 examples/sec; 0.2822730541229248 sec/batch)\n",
      "step 230,loss=1.1585054397583008,(446.80115979853326 examples/sec; 0.2864809036254883 sec/batch)\n",
      "step 240,loss=1.4183151721954346,(454.23471559931096 examples/sec; 0.28179264068603516 sec/batch)\n",
      "step 250,loss=1.4492483139038086,(449.2222586669701 examples/sec; 0.28493690490722656 sec/batch)\n",
      "step 260,loss=1.4000661373138428,(432.1988367272186 examples/sec; 0.2961599826812744 sec/batch)\n",
      "step 270,loss=1.2440338134765625,(323.4701887001626 examples/sec; 0.3957087993621826 sec/batch)\n",
      "step 280,loss=1.470562219619751,(450.70775781519563 examples/sec; 0.2839977741241455 sec/batch)\n",
      "step 290,loss=1.4830631017684937,(446.99757880538857 examples/sec; 0.28635501861572266 sec/batch)\n",
      "step 300,loss=1.4190245866775513,(444.78413834870014 examples/sec; 0.2877800464630127 sec/batch)\n",
      "step 310,loss=1.3418371677398682,(442.37406158305816 examples/sec; 0.28934788703918457 sec/batch)\n",
      "step 320,loss=1.4348163604736328,(441.181328858553 examples/sec; 0.2901301383972168 sec/batch)\n",
      "step 330,loss=1.4158611297607422,(449.996028689325 examples/sec; 0.28444695472717285 sec/batch)\n",
      "step 340,loss=1.2444359064102173,(324.39486837398607 examples/sec; 0.3945808410644531 sec/batch)\n",
      "step 350,loss=1.1583576202392578,(453.8215655114117 examples/sec; 0.28204917907714844 sec/batch)\n",
      "step 360,loss=1.2387615442276,(447.7681787967069 examples/sec; 0.2858622074127197 sec/batch)\n",
      "step 370,loss=1.219475269317627,(450.8057777471757 examples/sec; 0.2839360237121582 sec/batch)\n",
      "step 380,loss=1.2206995487213135,(414.6124734916293 examples/sec; 0.30872201919555664 sec/batch)\n",
      "step 390,loss=1.2896311283111572,(342.51820472201825 examples/sec; 0.3737027645111084 sec/batch)\n",
      "step 400,loss=1.1382277011871338,(449.93267154141085 examples/sec; 0.2844870090484619 sec/batch)\n",
      "step 410,loss=1.0716967582702637,(458.90168082167423 examples/sec; 0.2789268493652344 sec/batch)\n",
      "step 420,loss=1.0944547653198242,(450.2186743951824 examples/sec; 0.28430628776550293 sec/batch)\n",
      "step 430,loss=1.3028109073638916,(337.6043394789582 examples/sec; 0.37914204597473145 sec/batch)\n",
      "step 440,loss=1.0394418239593506,(457.2671099050666 examples/sec; 0.2799239158630371 sec/batch)\n",
      "step 450,loss=1.0907092094421387,(455.95061980031863 examples/sec; 0.2807321548461914 sec/batch)\n",
      "step 460,loss=1.2431535720825195,(430.0744055415234 examples/sec; 0.2976229190826416 sec/batch)\n",
      "step 470,loss=1.177100419998169,(466.8158564261306 examples/sec; 0.274198055267334 sec/batch)\n",
      "step 480,loss=1.1199408769607544,(345.4658842803541 examples/sec; 0.3705141544342041 sec/batch)\n",
      "step 490,loss=0.965229868888855,(420.83097809898567 examples/sec; 0.30416011810302734 sec/batch)\n",
      "step 500,loss=1.1090755462646484,(424.1148814009742 examples/sec; 0.3018050193786621 sec/batch)\n",
      "step 510,loss=0.9938452243804932,(446.7279188873218 examples/sec; 0.2865278720855713 sec/batch)\n",
      "step 520,loss=1.0209991931915283,(462.9211154856322 examples/sec; 0.2765049934387207 sec/batch)\n",
      "step 530,loss=1.019127368927002,(312.00781543758137 examples/sec; 0.4102461338043213 sec/batch)\n",
      "step 540,loss=1.1338216066360474,(462.6279206639316 examples/sec; 0.27668023109436035 sec/batch)\n",
      "step 550,loss=1.0420676469802856,(458.78325012860984 examples/sec; 0.27899885177612305 sec/batch)\n",
      "step 560,loss=1.208979606628418,(456.88341820756517 examples/sec; 0.28015899658203125 sec/batch)\n",
      "step 570,loss=1.1549952030181885,(456.0528706808969 examples/sec; 0.2806692123413086 sec/batch)\n",
      "step 580,loss=1.0689622163772583,(457.27840471118526 examples/sec; 0.27991700172424316 sec/batch)\n",
      "step 590,loss=1.00362229347229,(451.4988083284136 examples/sec; 0.28350019454956055 sec/batch)\n",
      "step 600,loss=0.9504461288452148,(456.36222622308134 examples/sec; 0.28047895431518555 sec/batch)\n",
      "step 610,loss=1.1593403816223145,(313.71871305833594 examples/sec; 0.4080088138580322 sec/batch)\n",
      "step 620,loss=0.8887097835540771,(467.090407640896 examples/sec; 0.27403688430786133 sec/batch)\n",
      "step 630,loss=1.2675201892852783,(450.42529028793876 examples/sec; 0.2841758728027344 sec/batch)\n",
      "step 640,loss=1.0768649578094482,(457.4155447919196 examples/sec; 0.2798330783843994 sec/batch)\n",
      "step 650,loss=1.1469354629516602,(470.9811237662284 examples/sec; 0.271773099899292 sec/batch)\n",
      "step 660,loss=0.8790856003761292,(444.0917149949666 examples/sec; 0.28822875022888184 sec/batch)\n",
      "step 670,loss=0.9893471002578735,(457.2928161360113 examples/sec; 0.2799081802368164 sec/batch)\n",
      "step 680,loss=1.0256657600402832,(468.3119201392887 examples/sec; 0.27332210540771484 sec/batch)\n",
      "step 690,loss=0.9576032757759094,(460.0771367237545 examples/sec; 0.2782142162322998 sec/batch)\n",
      "step 700,loss=1.0371220111846924,(442.71660149388873 examples/sec; 0.2891240119934082 sec/batch)\n",
      "step 710,loss=1.1165088415145874,(460.4982055979853 examples/sec; 0.27795982360839844 sec/batch)\n",
      "step 720,loss=1.0089200735092163,(458.9346326785317 examples/sec; 0.27890682220458984 sec/batch)\n",
      "step 730,loss=1.0135544538497925,(443.4574806219479 examples/sec; 0.28864097595214844 sec/batch)\n",
      "step 740,loss=1.0602443218231201,(373.70314849257704 examples/sec; 0.3425178527832031 sec/batch)\n",
      "step 750,loss=0.9388817548751831,(458.9244327885893 examples/sec; 0.2789130210876465 sec/batch)\n",
      "step 760,loss=1.0486376285552979,(454.65516403278707 examples/sec; 0.28153204917907715 sec/batch)\n",
      "step 770,loss=1.0860047340393066,(459.5238564776773 examples/sec; 0.2785491943359375 sec/batch)\n",
      "step 780,loss=1.0025100708007812,(502.5897666093433 examples/sec; 0.254680871963501 sec/batch)\n",
      "step 790,loss=0.9710833430290222,(446.34760132323584 examples/sec; 0.2867720127105713 sec/batch)\n",
      "step 800,loss=0.8569545149803162,(438.0424113954312 examples/sec; 0.2922091484069824 sec/batch)\n",
      "step 810,loss=0.9157299399375916,(451.8849158719604 examples/sec; 0.28325796127319336 sec/batch)\n",
      "step 820,loss=1.0329455137252808,(452.52557510696334 examples/sec; 0.28285694122314453 sec/batch)\n",
      "step 830,loss=0.8316742777824402,(456.7353284223189 examples/sec; 0.28024983406066895 sec/batch)\n",
      "step 840,loss=0.9460147619247437,(467.34575361735983 examples/sec; 0.27388715744018555 sec/batch)\n"
     ]
    },
    {
     "name": "stdout",
     "output_type": "stream",
     "text": [
      "step 850,loss=0.8812328577041626,(464.7717932558123 examples/sec; 0.2754039764404297 sec/batch)\n",
      "step 860,loss=0.992067813873291,(432.5101140667257 examples/sec; 0.2959468364715576 sec/batch)\n",
      "step 870,loss=0.8043610453605652,(435.563961356106 examples/sec; 0.2938718795776367 sec/batch)\n",
      "step 880,loss=1.0125097036361694,(441.65350738281643 examples/sec; 0.28981995582580566 sec/batch)\n",
      "step 890,loss=1.0449076890945435,(459.30998987050674 examples/sec; 0.27867889404296875 sec/batch)\n",
      "step 900,loss=0.8437172770500183,(464.0438674434283 examples/sec; 0.2758359909057617 sec/batch)\n",
      "step 910,loss=0.8402470350265503,(455.03974884581123 examples/sec; 0.2812941074371338 sec/batch)\n",
      "step 920,loss=0.9042041897773743,(448.25307256599336 examples/sec; 0.285552978515625 sec/batch)\n",
      "step 930,loss=0.8791593909263611,(465.38700295856194 examples/sec; 0.2750399112701416 sec/batch)\n",
      "step 940,loss=0.8509799242019653,(410.860743645433 examples/sec; 0.3115410804748535 sec/batch)\n",
      "step 950,loss=0.9665051698684692,(412.05272473018255 examples/sec; 0.3106398582458496 sec/batch)\n",
      "step 960,loss=0.9317889213562012,(328.28511538602646 examples/sec; 0.3899049758911133 sec/batch)\n",
      "step 970,loss=0.8769591450691223,(448.9529121638629 examples/sec; 0.2851078510284424 sec/batch)\n",
      "step 980,loss=0.9766361117362976,(333.58264555498323 examples/sec; 0.3837130069732666 sec/batch)\n",
      "step 990,loss=0.6969924569129944,(403.8697406262013 examples/sec; 0.31693387031555176 sec/batch)\n",
      "step 1000,loss=0.7632367610931396,(285.85138011028954 examples/sec; 0.4477851390838623 sec/batch)\n",
      "step 1010,loss=0.7443363666534424,(449.76682067414225 examples/sec; 0.2845919132232666 sec/batch)\n",
      "step 1020,loss=0.8925793170928955,(387.30524538837227 examples/sec; 0.3304886817932129 sec/batch)\n",
      "step 1030,loss=0.8127245306968689,(419.507091140099 examples/sec; 0.30511999130249023 sec/batch)\n",
      "step 1040,loss=0.9417368173599243,(422.6095463451228 examples/sec; 0.30288004875183105 sec/batch)\n",
      "step 1050,loss=0.6320846080780029,(466.0442961386281 examples/sec; 0.27465200424194336 sec/batch)\n",
      "step 1060,loss=0.8620754480361938,(448.79040879004765 examples/sec; 0.28521108627319336 sec/batch)\n",
      "step 1070,loss=0.8198609352111816,(462.13889364720427 examples/sec; 0.27697300910949707 sec/batch)\n",
      "step 1080,loss=0.7912083864212036,(449.6319685634196 examples/sec; 0.28467726707458496 sec/batch)\n",
      "step 1090,loss=0.9089533090591431,(456.0660426885314 examples/sec; 0.28066110610961914 sec/batch)\n",
      "step 1100,loss=0.7794973850250244,(432.56691654688314 examples/sec; 0.29590797424316406 sec/batch)\n",
      "step 1110,loss=0.8888307213783264,(383.01795979984104 examples/sec; 0.33418798446655273 sec/batch)\n",
      "step 1120,loss=0.8664896488189697,(384.74365539892176 examples/sec; 0.3326890468597412 sec/batch)\n",
      "step 1130,loss=0.8146158456802368,(319.27828849477316 examples/sec; 0.40090417861938477 sec/batch)\n",
      "step 1140,loss=0.7618223428726196,(406.2356748576509 examples/sec; 0.31508803367614746 sec/batch)\n",
      "step 1150,loss=0.9015685319900513,(342.48237067543937 examples/sec; 0.37374186515808105 sec/batch)\n",
      "step 1160,loss=0.7578742504119873,(421.9018217653096 examples/sec; 0.3033881187438965 sec/batch)\n",
      "step 1170,loss=0.7734999656677246,(502.6212919256054 examples/sec; 0.25466489791870117 sec/batch)\n",
      "step 1180,loss=0.7842123508453369,(458.0919271108866 examples/sec; 0.2794198989868164 sec/batch)\n",
      "step 1190,loss=0.7531524896621704,(440.5210327573729 examples/sec; 0.29056501388549805 sec/batch)\n",
      "step 1200,loss=0.7222713232040405,(462.127357459255 examples/sec; 0.276979923248291 sec/batch)\n",
      "step 1210,loss=0.7097759246826172,(435.5268602969271 examples/sec; 0.2938969135284424 sec/batch)\n",
      "step 1220,loss=0.7115837931632996,(306.30956115311915 examples/sec; 0.4178779125213623 sec/batch)\n",
      "step 1230,loss=0.7990670204162598,(457.96570999620405 examples/sec; 0.2794969081878662 sec/batch)\n",
      "step 1240,loss=0.5743769407272339,(447.4010018525355 examples/sec; 0.28609681129455566 sec/batch)\n",
      "step 1250,loss=0.907097578048706,(451.548175037596 examples/sec; 0.28346920013427734 sec/batch)\n",
      "step 1260,loss=0.6829570531845093,(464.8092153051639 examples/sec; 0.27538180351257324 sec/batch)\n",
      "step 1270,loss=1.0117053985595703,(449.43661420025416 examples/sec; 0.28480100631713867 sec/batch)\n",
      "step 1280,loss=0.6950838565826416,(455.22302133872836 examples/sec; 0.28118085861206055 sec/batch)\n",
      "step 1290,loss=0.7805495262145996,(375.00020046729134 examples/sec; 0.34133315086364746 sec/batch)\n",
      "step 1300,loss=0.8353974223136902,(439.84144859786284 examples/sec; 0.2910139560699463 sec/batch)\n",
      "step 1310,loss=0.9760830402374268,(470.14098163119473 examples/sec; 0.2722587585449219 sec/batch)\n",
      "step 1320,loss=0.6754955053329468,(447.9063992598173 examples/sec; 0.28577399253845215 sec/batch)\n",
      "step 1330,loss=0.8572821617126465,(459.69265282462146 examples/sec; 0.27844691276550293 sec/batch)\n",
      "step 1340,loss=0.8582122325897217,(321.81585668857576 examples/sec; 0.39774298667907715 sec/batch)\n",
      "step 1350,loss=0.6832616329193115,(466.8057090935966 examples/sec; 0.2742040157318115 sec/batch)\n",
      "step 1360,loss=0.6737732291221619,(438.28844517954553 examples/sec; 0.29204511642456055 sec/batch)\n",
      "step 1370,loss=0.9046660661697388,(461.00395253522976 examples/sec; 0.27765488624572754 sec/batch)\n",
      "step 1380,loss=0.5722996592521667,(412.8750410474936 examples/sec; 0.31002116203308105 sec/batch)\n",
      "step 1390,loss=0.6620633602142334,(458.8373598799386 examples/sec; 0.27896595001220703 sec/batch)\n",
      "step 1400,loss=0.5829543471336365,(461.80219447493283 examples/sec; 0.2771749496459961 sec/batch)\n",
      "step 1410,loss=0.6037328839302063,(313.11765906644007 examples/sec; 0.40879201889038086 sec/batch)\n",
      "step 1420,loss=0.6313979029655457,(451.7267447828582 examples/sec; 0.2833571434020996 sec/batch)\n",
      "step 1430,loss=0.8732724189758301,(443.0523595941424 examples/sec; 0.28890490531921387 sec/batch)\n",
      "step 1440,loss=0.6650254130363464,(464.88005202366696 examples/sec; 0.27533984184265137 sec/batch)\n",
      "step 1450,loss=0.6898289322853088,(461.4521031632111 examples/sec; 0.27738523483276367 sec/batch)\n",
      "step 1460,loss=0.7468268275260925,(456.0908391200852 examples/sec; 0.28064584732055664 sec/batch)\n",
      "step 1470,loss=0.6940114498138428,(447.00278923538315 examples/sec; 0.28635168075561523 sec/batch)\n",
      "step 1480,loss=0.7828184366226196,(367.17557811572436 examples/sec; 0.34860706329345703 sec/batch)\n",
      "step 1490,loss=0.7848374843597412,(436.86613709340116 examples/sec; 0.2929959297180176 sec/batch)\n",
      "step 1500,loss=0.7577162981033325,(418.84140427523795 examples/sec; 0.3056049346923828 sec/batch)\n",
      "step 1510,loss=0.861146092414856,(417.6875335027825 examples/sec; 0.30644917488098145 sec/batch)\n",
      "step 1520,loss=0.5726373791694641,(451.71306210570776 examples/sec; 0.28336572647094727 sec/batch)\n",
      "step 1530,loss=0.6151237487792969,(428.9716682780277 examples/sec; 0.2983880043029785 sec/batch)\n",
      "step 1540,loss=0.5299701690673828,(400.83060722893003 examples/sec; 0.3193368911743164 sec/batch)\n",
      "step 1550,loss=0.58796626329422,(425.31402138806124 examples/sec; 0.30095410346984863 sec/batch)\n",
      "step 1560,loss=0.6959251165390015,(483.17386741833116 examples/sec; 0.26491498947143555 sec/batch)\n",
      "step 1570,loss=0.6078193187713623,(330.9050314589456 examples/sec; 0.38681793212890625 sec/batch)\n",
      "step 1580,loss=0.652703583240509,(460.45476080613537 examples/sec; 0.2779860496520996 sec/batch)\n",
      "step 1590,loss=0.6487862467765808,(422.74198900291583 examples/sec; 0.30278515815734863 sec/batch)\n",
      "step 1600,loss=0.6103036999702454,(404.3007093907674 examples/sec; 0.31659603118896484 sec/batch)\n",
      "step 1610,loss=0.5715842247009277,(427.06824871053243 examples/sec; 0.29971790313720703 sec/batch)\n",
      "step 1620,loss=0.5597402453422546,(409.39135633389964 examples/sec; 0.31265926361083984 sec/batch)\n",
      "step 1630,loss=0.6077749133110046,(429.24776589578045 examples/sec; 0.29819607734680176 sec/batch)\n",
      "step 1640,loss=0.7031487226486206,(292.0389174228685 examples/sec; 0.43829774856567383 sec/batch)\n",
      "step 1650,loss=0.6508083343505859,(412.6516298278206 examples/sec; 0.31018900871276855 sec/batch)\n",
      "step 1660,loss=0.6150685548782349,(365.16961820056645 examples/sec; 0.3505220413208008 sec/batch)\n",
      "step 1670,loss=0.5878698825836182,(450.5836856200708 examples/sec; 0.2840759754180908 sec/batch)\n",
      "step 1680,loss=0.6025494337081909,(436.73464553349754 examples/sec; 0.29308414459228516 sec/batch)\n"
     ]
    },
    {
     "name": "stdout",
     "output_type": "stream",
     "text": [
      "step 1690,loss=0.6561191082000732,(439.96688555570034 examples/sec; 0.29093098640441895 sec/batch)\n",
      "step 1700,loss=0.6930822134017944,(410.61532307593467 examples/sec; 0.31172728538513184 sec/batch)\n",
      "step 1710,loss=0.6222703456878662,(355.6234889819635 examples/sec; 0.35993123054504395 sec/batch)\n",
      "step 1720,loss=0.7361242771148682,(461.40054728215284 examples/sec; 0.2774162292480469 sec/batch)\n",
      "step 1730,loss=0.66460120677948,(325.76940538552884 examples/sec; 0.3929159641265869 sec/batch)\n",
      "step 1740,loss=0.6174150109291077,(409.25716219780486 examples/sec; 0.3127617835998535 sec/batch)\n",
      "step 1750,loss=0.5816913843154907,(432.5606431475427 examples/sec; 0.2959122657775879 sec/batch)\n",
      "step 1760,loss=0.5830256938934326,(380.07483823466947 examples/sec; 0.3367757797241211 sec/batch)\n",
      "step 1770,loss=0.6703760623931885,(386.8846366985977 examples/sec; 0.33084797859191895 sec/batch)\n",
      "step 1780,loss=0.8538064956665039,(445.81276344153883 examples/sec; 0.28711605072021484 sec/batch)\n",
      "step 1790,loss=0.5994949340820312,(468.1612291969148 examples/sec; 0.2734100818634033 sec/batch)\n",
      "step 1800,loss=0.7055425643920898,(415.77740569961105 examples/sec; 0.30785703659057617 sec/batch)\n",
      "step 1810,loss=0.5937476754188538,(478.4080170878174 examples/sec; 0.26755404472351074 sec/batch)\n",
      "step 1820,loss=0.7655563354492188,(437.56828929158837 examples/sec; 0.2925257682800293 sec/batch)\n",
      "step 1830,loss=0.6171246767044067,(453.58384616684407 examples/sec; 0.2821969985961914 sec/batch)\n",
      "step 1840,loss=0.6337053179740906,(429.08412230798865 examples/sec; 0.2983098030090332 sec/batch)\n",
      "step 1850,loss=0.6521086692810059,(425.0412769188261 examples/sec; 0.3011472225189209 sec/batch)\n",
      "step 1860,loss=0.6059266328811646,(436.65436800026026 examples/sec; 0.2931380271911621 sec/batch)\n",
      "step 1870,loss=0.5182071924209595,(362.47606508853767 examples/sec; 0.35312676429748535 sec/batch)\n",
      "step 1880,loss=0.49942561984062195,(451.3113132366045 examples/sec; 0.2836179733276367 sec/batch)\n",
      "step 1890,loss=0.8135290145874023,(465.7455168806112 examples/sec; 0.2748281955718994 sec/batch)\n",
      "step 1900,loss=0.512860894203186,(412.01952076056983 examples/sec; 0.3106648921966553 sec/batch)\n",
      "step 1910,loss=0.5445900559425354,(440.278263722025 examples/sec; 0.2907252311706543 sec/batch)\n",
      "step 1920,loss=0.6374903917312622,(406.12504548256913 examples/sec; 0.315173864364624 sec/batch)\n",
      "step 1930,loss=0.38311418890953064,(440.45164286124486 examples/sec; 0.29061079025268555 sec/batch)\n",
      "step 1940,loss=0.494030237197876,(415.4386190811879 examples/sec; 0.3081080913543701 sec/batch)\n",
      "step 1950,loss=0.6337950825691223,(408.58035709529213 examples/sec; 0.3132798671722412 sec/batch)\n",
      "step 1960,loss=0.4488314986228943,(416.72364966925767 examples/sec; 0.3071579933166504 sec/batch)\n",
      "step 1970,loss=0.5135543346405029,(279.80272135788545 examples/sec; 0.45746517181396484 sec/batch)\n",
      "step 1980,loss=0.3377646207809448,(398.95171003430175 examples/sec; 0.32084083557128906 sec/batch)\n",
      "step 1990,loss=0.3998325765132904,(320.7786770105321 examples/sec; 0.399029016494751 sec/batch)\n",
      "step 2000,loss=0.5903199911117554,(449.2222586669701 examples/sec; 0.28493690490722656 sec/batch)\n",
      "step 2010,loss=0.462422639131546,(443.85233442270027 examples/sec; 0.28838419914245605 sec/batch)\n",
      "step 2020,loss=0.5246213674545288,(453.2036302150998 examples/sec; 0.28243374824523926 sec/batch)\n",
      "step 2030,loss=0.5071218609809875,(447.288432106202 examples/sec; 0.28616881370544434 sec/batch)\n",
      "step 2040,loss=0.4889667332172394,(371.9645294695148 examples/sec; 0.3441188335418701 sec/batch)\n",
      "step 2050,loss=0.5607250332832336,(423.33099827630525 examples/sec; 0.30236387252807617 sec/batch)\n",
      "step 2060,loss=0.6957734823226929,(462.3187735359184 examples/sec; 0.27686524391174316 sec/batch)\n",
      "step 2070,loss=0.5294617414474487,(458.6119867457457 examples/sec; 0.27910304069519043 sec/batch)\n",
      "step 2080,loss=0.7020788192749023,(457.7739775201955 examples/sec; 0.2796139717102051 sec/batch)\n",
      "step 2090,loss=0.5386036038398743,(434.68477937884234 examples/sec; 0.2944662570953369 sec/batch)\n",
      "step 2100,loss=0.5362821817398071,(442.34818288780275 examples/sec; 0.2893648147583008 sec/batch)\n",
      "step 2110,loss=0.5147300362586975,(134.2828551847646 examples/sec; 0.953211784362793 sec/batch)\n",
      "step 2120,loss=0.49082767963409424,(391.5439086790493 examples/sec; 0.32691097259521484 sec/batch)\n",
      "step 2130,loss=0.549423098564148,(400.92459759745856 examples/sec; 0.3192620277404785 sec/batch)\n",
      "step 2140,loss=0.5139533281326294,(425.8673179693381 examples/sec; 0.30056309700012207 sec/batch)\n",
      "step 2150,loss=0.5024784207344055,(425.46704611285594 examples/sec; 0.3008458614349365 sec/batch)\n",
      "step 2160,loss=0.49306002259254456,(433.9515021403722 examples/sec; 0.2949638366699219 sec/batch)\n",
      "step 2170,loss=0.5844991207122803,(413.7012836299804 examples/sec; 0.3094019889831543 sec/batch)\n",
      "step 2180,loss=0.4581998586654663,(453.03612418368493 examples/sec; 0.28253817558288574 sec/batch)\n",
      "step 2190,loss=0.44993674755096436,(456.2970638680517 examples/sec; 0.2805190086364746 sec/batch)\n",
      "step 2200,loss=0.49433475732803345,(456.5640372346487 examples/sec; 0.28035497665405273 sec/batch)\n",
      "step 2210,loss=0.45458507537841797,(454.1102306791807 examples/sec; 0.28186988830566406 sec/batch)\n",
      "step 2220,loss=0.6871613264083862,(440.3541002969209 examples/sec; 0.29067516326904297 sec/batch)\n",
      "step 2230,loss=0.4575835168361664,(444.5230305047584 examples/sec; 0.2879490852355957 sec/batch)\n",
      "step 2240,loss=0.5858310461044312,(435.7004062645573 examples/sec; 0.2937798500061035 sec/batch)\n",
      "step 2250,loss=0.4699278473854065,(425.6411022394739 examples/sec; 0.3007228374481201 sec/batch)\n",
      "step 2260,loss=0.47997674345970154,(417.6251500350438 examples/sec; 0.30649495124816895 sec/batch)\n",
      "step 2270,loss=0.44455331563949585,(415.7571208750191 examples/sec; 0.30787205696105957 sec/batch)\n",
      "step 2280,loss=0.7140339612960815,(342.36530680310153 examples/sec; 0.3738696575164795 sec/batch)\n",
      "step 2290,loss=0.39659106731414795,(428.46190839883513 examples/sec; 0.29874300956726074 sec/batch)\n",
      "step 2300,loss=0.47682225704193115,(377.2714899693332 examples/sec; 0.3392782211303711 sec/batch)\n",
      "step 2310,loss=0.5396719574928284,(447.2787433194063 examples/sec; 0.286175012588501 sec/batch)\n",
      "step 2320,loss=0.3464999794960022,(462.16196775107153 examples/sec; 0.2769591808319092 sec/batch)\n",
      "step 2330,loss=0.5324669480323792,(346.19657215226766 examples/sec; 0.369732141494751 sec/batch)\n",
      "step 2340,loss=0.45837318897247314,(421.2757854131339 examples/sec; 0.30383896827697754 sec/batch)\n",
      "step 2350,loss=0.4056236147880554,(466.824380526395 examples/sec; 0.27419304847717285 sec/batch)\n",
      "step 2360,loss=0.5293623208999634,(445.4092420165878 examples/sec; 0.28737616539001465 sec/batch)\n",
      "step 2370,loss=0.43517184257507324,(417.8432485356404 examples/sec; 0.3063349723815918 sec/batch)\n",
      "step 2380,loss=0.3573566675186157,(434.7960235348427 examples/sec; 0.2943909168243408 sec/batch)\n",
      "step 2390,loss=0.46348628401756287,(415.51964595715174 examples/sec; 0.3080480098724365 sec/batch)\n",
      "step 2400,loss=0.4060940146446228,(435.8932007856083 examples/sec; 0.29364991188049316 sec/batch)\n",
      "step 2410,loss=0.6780567765235901,(457.84932367837774 examples/sec; 0.2795679569244385 sec/batch)\n",
      "step 2420,loss=0.4973410964012146,(476.9714112597649 examples/sec; 0.268359899520874 sec/batch)\n",
      "step 2430,loss=0.3004489541053772,(463.5998784160933 examples/sec; 0.27610015869140625 sec/batch)\n",
      "step 2440,loss=0.6644130349159241,(357.63379486069243 examples/sec; 0.3579080104827881 sec/batch)\n",
      "step 2450,loss=0.37288588285446167,(290.1948459381331 examples/sec; 0.4410829544067383 sec/batch)\n",
      "step 2460,loss=0.5678575038909912,(263.30831646185476 examples/sec; 0.48612213134765625 sec/batch)\n",
      "step 2470,loss=0.5088596940040588,(397.80120273029854 examples/sec; 0.32176876068115234 sec/batch)\n",
      "step 2480,loss=0.6450260877609253,(310.39998149871934 examples/sec; 0.4123711585998535 sec/batch)\n",
      "step 2490,loss=0.5374256372451782,(458.6578273357448 examples/sec; 0.27907514572143555 sec/batch)\n",
      "step 2500,loss=0.5849545001983643,(442.6202427494233 examples/sec; 0.289186954498291 sec/batch)\n",
      "step 2510,loss=0.42379510402679443,(425.9328641391747 examples/sec; 0.30051684379577637 sec/batch)\n",
      "step 2520,loss=0.5205650329589844,(440.01087752052854 examples/sec; 0.29090189933776855 sec/batch)\n"
     ]
    },
    {
     "name": "stdout",
     "output_type": "stream",
     "text": [
      "step 2530,loss=0.7015682458877563,(462.3677473917739 examples/sec; 0.27683591842651367 sec/batch)\n",
      "step 2540,loss=0.40769144892692566,(437.39182703470726 examples/sec; 0.29264378547668457 sec/batch)\n",
      "step 2550,loss=0.5442003011703491,(356.31290866373763 examples/sec; 0.3592348098754883 sec/batch)\n",
      "step 2560,loss=0.4701751172542572,(460.7301814786559 examples/sec; 0.2778198719024658 sec/batch)\n",
      "step 2570,loss=0.503272533416748,(439.4004645505989 examples/sec; 0.2913060188293457 sec/batch)\n",
      "step 2580,loss=0.3086070418357849,(401.07016007817145 examples/sec; 0.31914615631103516 sec/batch)\n",
      "step 2590,loss=0.5221357345581055,(310.79943984758484 examples/sec; 0.41184115409851074 sec/batch)\n",
      "step 2600,loss=0.31357908248901367,(446.8275621568401 examples/sec; 0.28646397590637207 sec/batch)\n",
      "step 2610,loss=0.4729779362678528,(446.74799268721534 examples/sec; 0.2865149974822998 sec/batch)\n",
      "step 2620,loss=0.35208484530448914,(438.1972231041781 examples/sec; 0.29210591316223145 sec/batch)\n",
      "step 2630,loss=0.4537220597267151,(439.2990734043145 examples/sec; 0.29137325286865234 sec/batch)\n",
      "step 2640,loss=0.43234482407569885,(442.0284118884009 examples/sec; 0.28957414627075195 sec/batch)\n",
      "step 2650,loss=0.42555829882621765,(436.1084830904375 examples/sec; 0.2935049533843994 sec/batch)\n",
      "step 2660,loss=0.20291203260421753,(323.04393310600494 examples/sec; 0.39623093605041504 sec/batch)\n",
      "step 2670,loss=0.5541603565216064,(398.8956863584252 examples/sec; 0.32088589668273926 sec/batch)\n",
      "step 2680,loss=0.454129159450531,(453.50070322181176 examples/sec; 0.28224873542785645 sec/batch)\n",
      "step 2690,loss=0.470205694437027,(463.34980792682666 examples/sec; 0.2762491703033447 sec/batch)\n",
      "step 2700,loss=0.29127317667007446,(457.5492576033654 examples/sec; 0.2797513008117676 sec/batch)\n",
      "step 2710,loss=0.3137926459312439,(453.3639859685153 examples/sec; 0.2823338508605957 sec/batch)\n",
      "step 2720,loss=0.49403828382492065,(448.6786387644581 examples/sec; 0.2852821350097656 sec/batch)\n",
      "step 2730,loss=0.4409591257572174,(454.2193433979377 examples/sec; 0.2818021774291992 sec/batch)\n",
      "step 2740,loss=0.418070912361145,(463.06845141830485 examples/sec; 0.2764170169830322 sec/batch)\n",
      "step 2750,loss=0.42064183950424194,(454.9252302712413 examples/sec; 0.28136491775512695 sec/batch)\n",
      "step 2760,loss=0.542011022567749,(460.71199434998675 examples/sec; 0.2778308391571045 sec/batch)\n",
      "step 2770,loss=0.37913838028907776,(466.855232253279 examples/sec; 0.27417492866516113 sec/batch)\n",
      "step 2780,loss=0.46905678510665894,(417.25480735602025 examples/sec; 0.30676698684692383 sec/batch)\n",
      "step 2790,loss=0.4116504192352295,(429.74804625745134 examples/sec; 0.2978489398956299 sec/batch)\n",
      "step 2800,loss=0.393851637840271,(407.87541690028274 examples/sec; 0.31382131576538086 sec/batch)\n",
      "step 2810,loss=0.3238012194633484,(452.8202318457241 examples/sec; 0.2826728820800781 sec/batch)\n",
      "step 2820,loss=0.3221369981765747,(439.4170079719753 examples/sec; 0.29129505157470703 sec/batch)\n",
      "step 2830,loss=0.381283700466156,(373.65087049571105 examples/sec; 0.34256577491760254 sec/batch)\n",
      "step 2840,loss=0.4414132237434387,(453.7878095289615 examples/sec; 0.2820701599121094 sec/batch)\n",
      "step 2850,loss=0.41962534189224243,(454.43080241134777 examples/sec; 0.28167104721069336 sec/batch)\n",
      "step 2860,loss=0.5543648600578308,(457.08880382514405 examples/sec; 0.2800331115722656 sec/batch)\n",
      "step 2870,loss=0.5303314328193665,(443.7004690140787 examples/sec; 0.2884829044342041 sec/batch)\n",
      "step 2880,loss=0.2813488245010376,(458.61041970807594 examples/sec; 0.27910399436950684 sec/batch)\n",
      "step 2890,loss=0.45674434304237366,(430.94435788701406 examples/sec; 0.29702210426330566 sec/batch)\n",
      "step 2900,loss=0.44280749559402466,(334.6090876001576 examples/sec; 0.3825359344482422 sec/batch)\n",
      "step 2910,loss=0.4713287949562073,(439.33106768389035 examples/sec; 0.2913520336151123 sec/batch)\n",
      "step 2920,loss=0.46874281764030457,(435.5625478666096 examples/sec; 0.2938728332519531 sec/batch)\n",
      "step 2930,loss=0.48116275668144226,(466.0082929492571 examples/sec; 0.2746732234954834 sec/batch)\n",
      "step 2940,loss=0.3863067626953125,(458.5199414456502 examples/sec; 0.2791590690612793 sec/batch)\n",
      "step 2950,loss=0.40106096863746643,(454.60550060967347 examples/sec; 0.28156280517578125 sec/batch)\n",
      "step 2960,loss=0.3387920558452606,(459.5423432707937 examples/sec; 0.2785379886627197 sec/batch)\n",
      "step 2970,loss=0.5002018213272095,(461.1203641751304 examples/sec; 0.2775847911834717 sec/batch)\n",
      "step 2980,loss=0.4658759534358978,(439.8155050533599 examples/sec; 0.2910311222076416 sec/batch)\n",
      "step 2990,loss=0.522249698638916,(468.69746030609724 examples/sec; 0.27309727668762207 sec/batch)\n"
     ]
    }
   ],
   "source": [
    "sess = tf.InteractiveSession()\n",
    "tf.global_variables_initializer().run()\n",
    "tf.train.start_queue_runners()\n",
    "\n",
    "max_steps = 3000\n",
    "for step in range(max_steps):\n",
    "    start_time = time.time()\n",
    "    image_batch, label_batch = sess.run([images_train, labels_train])\n",
    "    _, loss_value = sess.run([train_op, loss], feed_dict={image_holder: image_batch, label_holder: label_batch})\n",
    "    duration = time.time() - start_time\n",
    "\n",
    "    if step % 10 == 0:\n",
    "        examples_per_sec = batch_size / duration\n",
    "        sec_per_batch = float(duration)\n",
    "\n",
    "        print('step {},loss={},({} examples/sec; {} sec/batch)'.format(step, loss_value, examples_per_sec, sec_per_batch))"
   ]
  },
  {
   "cell_type": "code",
   "execution_count": 10,
   "metadata": {},
   "outputs": [
    {
     "name": "stdout",
     "output_type": "stream",
     "text": [
      "precision =  0.8302017405063291\n"
     ]
    }
   ],
   "source": [
    "num_examples = 10000\n",
    "num_iter = int(math.ceil(num_examples / batch_size))  # 计算一共有多少组\n",
    "true_count = 0\n",
    "total_sample_count = num_iter * batch_size\n",
    "step = 0\n",
    "while step < num_iter:\n",
    "    image_batch, label_batch = sess.run([images_test, labels_test])\n",
    "    predictions = sess.run([top_k_op], feed_dict={image_holder: image_batch, label_holder: label_batch})\n",
    "    true_count += np.sum(predictions)\n",
    "    step += 1\n",
    "\n",
    "precision = true_count / total_sample_count\n",
    "print('precision = ', precision)"
   ]
  },
  {
   "cell_type": "code",
   "execution_count": null,
   "metadata": {},
   "outputs": [],
   "source": []
  }
 ],
 "metadata": {
  "kernelspec": {
   "display_name": "Python 3",
   "language": "python",
   "name": "python3"
  },
  "language_info": {
   "codemirror_mode": {
    "name": "ipython",
    "version": 3
   },
   "file_extension": ".py",
   "mimetype": "text/x-python",
   "name": "python",
   "nbconvert_exporter": "python",
   "pygments_lexer": "ipython3",
   "version": "3.6.8"
  }
 },
 "nbformat": 4,
 "nbformat_minor": 2
}
